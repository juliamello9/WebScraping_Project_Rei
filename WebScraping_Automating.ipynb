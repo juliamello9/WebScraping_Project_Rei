{
 "cells": [
  {
   "cell_type": "code",
   "execution_count": 1,
   "metadata": {},
   "outputs": [],
   "source": [
    "import pandas as pd\n",
    "import numpy as np\n",
    "import selenium\n",
    "import os\n",
    "from selenium import webdriver"
   ]
  },
  {
   "cell_type": "markdown",
   "metadata": {},
   "source": [
    "## On this project, let's perform a Web Scraping that goes to the REI website and scrapes data about skii boots!"
   ]
  },
  {
   "cell_type": "code",
   "execution_count": 4,
   "metadata": {},
   "outputs": [],
   "source": [
    "driver= webdriver.Chrome(executable_path='./chromedriver')\n",
    "driver.get(\"https://www.rei.com/\")"
   ]
  },
  {
   "cell_type": "code",
   "execution_count": 204,
   "metadata": {},
   "outputs": [],
   "source": [
    "elem= driver.find_element_by_id(\"inputGroup\")"
   ]
  },
  {
   "cell_type": "code",
   "execution_count": 205,
   "metadata": {},
   "outputs": [
    {
     "data": {
      "text/plain": [
       "<selenium.webdriver.remote.webelement.WebElement (session=\"3a48027b99178da2d0ff3eaeba62f78c\", element=\"7e0e4293-6861-4fc3-80a3-ab7e13eff7fd\")>"
      ]
     },
     "execution_count": 205,
     "metadata": {},
     "output_type": "execute_result"
    }
   ],
   "source": [
    "elem"
   ]
  },
  {
   "cell_type": "code",
   "execution_count": 206,
   "metadata": {},
   "outputs": [],
   "source": [
    "def write_what_needed(driver,search_words):\n",
    "\n",
    "    elem= driver.find_element_by_id(\"inputGroup\")\n",
    "    elem.send_keys(search_words)\n",
    "    driver.find_element_by_class_name(\"input-group-btn\").click()"
   ]
  },
  {
   "cell_type": "code",
   "execution_count": 207,
   "metadata": {},
   "outputs": [],
   "source": [
    "write_what_needed(driver,\"skii boots for women\")"
   ]
  },
  {
   "cell_type": "code",
   "execution_count": 208,
   "metadata": {},
   "outputs": [],
   "source": [
    "driver.find_element_by_class_name(\"input-group-btn\").click()"
   ]
  },
  {
   "cell_type": "markdown",
   "metadata": {},
   "source": [
    "### Now that our bot already goes to the site and writes down what we want, let's make it scrape all the information."
   ]
  },
  {
   "cell_type": "code",
   "execution_count": 209,
   "metadata": {},
   "outputs": [],
   "source": [
    "boot_type = driver.find_element_by_class_name(\"r9nAQ5Ik_3veCKyyZkP0b\")"
   ]
  },
  {
   "cell_type": "code",
   "execution_count": 210,
   "metadata": {},
   "outputs": [],
   "source": [
    "boot_brand = driver.find_element_by_class_name(\"_1fwp3k8dh1lbhAAenp87CH\")"
   ]
  },
  {
   "cell_type": "code",
   "execution_count": 211,
   "metadata": {},
   "outputs": [],
   "source": [
    "boot_price = driver.find_element_by_class_name(\"_1zwqhlCzOK-xETXwFg_-iZ\")"
   ]
  },
  {
   "cell_type": "code",
   "execution_count": 212,
   "metadata": {},
   "outputs": [
    {
     "data": {
      "text/plain": [
       "'<span class=\"\">$599.95</span>'"
      ]
     },
     "execution_count": 212,
     "metadata": {},
     "output_type": "execute_result"
    }
   ],
   "source": [
    "boot_price.get_attribute('innerHTML')"
   ]
  },
  {
   "cell_type": "markdown",
   "metadata": {},
   "source": [
    "## Agora vamos então fazer o Loop para puxar as informações de todas as botas:"
   ]
  },
  {
   "cell_type": "code",
   "execution_count": 213,
   "metadata": {},
   "outputs": [],
   "source": [
    "search_result= driver.find_element_by_id(\"search-results\")"
   ]
  },
  {
   "cell_type": "code",
   "execution_count": 214,
   "metadata": {},
   "outputs": [],
   "source": [
    "boots = search_result.find_elements_by_tag_name(\"li\")"
   ]
  },
  {
   "cell_type": "code",
   "execution_count": 215,
   "metadata": {},
   "outputs": [
    {
     "data": {
      "text/plain": [
       "[<selenium.webdriver.remote.webelement.WebElement (session=\"3a48027b99178da2d0ff3eaeba62f78c\", element=\"f295d91c-498c-4a0e-b8de-6dcd92341d32\")>,\n",
       " <selenium.webdriver.remote.webelement.WebElement (session=\"3a48027b99178da2d0ff3eaeba62f78c\", element=\"bf71b482-f030-418f-9a2f-af87b0065d7b\")>,\n",
       " <selenium.webdriver.remote.webelement.WebElement (session=\"3a48027b99178da2d0ff3eaeba62f78c\", element=\"81ad2bad-6399-46d4-8af6-29ac5faa47a5\")>,\n",
       " <selenium.webdriver.remote.webelement.WebElement (session=\"3a48027b99178da2d0ff3eaeba62f78c\", element=\"84e87756-e624-4db8-b7c3-5f03f57b4728\")>,\n",
       " <selenium.webdriver.remote.webelement.WebElement (session=\"3a48027b99178da2d0ff3eaeba62f78c\", element=\"b2aaa3b9-aea5-4648-8d22-94a06746471a\")>,\n",
       " <selenium.webdriver.remote.webelement.WebElement (session=\"3a48027b99178da2d0ff3eaeba62f78c\", element=\"9eac37c8-9d6e-4f9e-8ce6-7cbbd56c0a90\")>,\n",
       " <selenium.webdriver.remote.webelement.WebElement (session=\"3a48027b99178da2d0ff3eaeba62f78c\", element=\"ac8ba17d-fa87-4d5b-be28-b440b1ac9387\")>,\n",
       " <selenium.webdriver.remote.webelement.WebElement (session=\"3a48027b99178da2d0ff3eaeba62f78c\", element=\"1d8a9d9d-bdf3-4f7a-a91c-d98541fe87d9\")>,\n",
       " <selenium.webdriver.remote.webelement.WebElement (session=\"3a48027b99178da2d0ff3eaeba62f78c\", element=\"e216b6e1-6e95-498a-a28f-6a42352fc5d5\")>,\n",
       " <selenium.webdriver.remote.webelement.WebElement (session=\"3a48027b99178da2d0ff3eaeba62f78c\", element=\"e40cbc50-f014-4202-b6fa-4f90da9997f1\")>,\n",
       " <selenium.webdriver.remote.webelement.WebElement (session=\"3a48027b99178da2d0ff3eaeba62f78c\", element=\"37fb0174-90e3-43c2-a4be-2ff810c45410\")>,\n",
       " <selenium.webdriver.remote.webelement.WebElement (session=\"3a48027b99178da2d0ff3eaeba62f78c\", element=\"c8a00cc5-9fb8-4c0e-bf8c-8dbe72fbcca4\")>,\n",
       " <selenium.webdriver.remote.webelement.WebElement (session=\"3a48027b99178da2d0ff3eaeba62f78c\", element=\"603494ae-1950-4bfe-8262-6c4231884663\")>,\n",
       " <selenium.webdriver.remote.webelement.WebElement (session=\"3a48027b99178da2d0ff3eaeba62f78c\", element=\"b0e0a5ca-1e4a-4b7e-b1c7-3003e9fa380e\")>,\n",
       " <selenium.webdriver.remote.webelement.WebElement (session=\"3a48027b99178da2d0ff3eaeba62f78c\", element=\"9512c102-09d5-40ea-9483-5aa7361fea71\")>,\n",
       " <selenium.webdriver.remote.webelement.WebElement (session=\"3a48027b99178da2d0ff3eaeba62f78c\", element=\"8b214064-f06c-422f-a776-a01d9aeec9dd\")>,\n",
       " <selenium.webdriver.remote.webelement.WebElement (session=\"3a48027b99178da2d0ff3eaeba62f78c\", element=\"b02c7362-44bb-47ec-a268-81ad5d97ed4f\")>,\n",
       " <selenium.webdriver.remote.webelement.WebElement (session=\"3a48027b99178da2d0ff3eaeba62f78c\", element=\"336ec105-7dee-413d-8c7a-ada49e0166e1\")>,\n",
       " <selenium.webdriver.remote.webelement.WebElement (session=\"3a48027b99178da2d0ff3eaeba62f78c\", element=\"e4bb0ef2-e2ea-453a-8f78-fca127f4dbaf\")>,\n",
       " <selenium.webdriver.remote.webelement.WebElement (session=\"3a48027b99178da2d0ff3eaeba62f78c\", element=\"323ca34f-abf3-4148-87f2-379db70fc349\")>,\n",
       " <selenium.webdriver.remote.webelement.WebElement (session=\"3a48027b99178da2d0ff3eaeba62f78c\", element=\"b5f1216b-c29c-4e2e-ae5f-e3e9e91dea56\")>,\n",
       " <selenium.webdriver.remote.webelement.WebElement (session=\"3a48027b99178da2d0ff3eaeba62f78c\", element=\"aa54d30a-00a1-4d71-bfae-9c007b4c4ac7\")>,\n",
       " <selenium.webdriver.remote.webelement.WebElement (session=\"3a48027b99178da2d0ff3eaeba62f78c\", element=\"8211910a-1288-4ce9-8a27-1203ae9896ba\")>,\n",
       " <selenium.webdriver.remote.webelement.WebElement (session=\"3a48027b99178da2d0ff3eaeba62f78c\", element=\"3ac763e0-a233-473a-a335-711a59b2dc1f\")>,\n",
       " <selenium.webdriver.remote.webelement.WebElement (session=\"3a48027b99178da2d0ff3eaeba62f78c\", element=\"f533e54d-bf8b-48fd-885a-32e96e7919bb\")>,\n",
       " <selenium.webdriver.remote.webelement.WebElement (session=\"3a48027b99178da2d0ff3eaeba62f78c\", element=\"4337ff10-078e-41c2-a40d-37f4e30a1107\")>,\n",
       " <selenium.webdriver.remote.webelement.WebElement (session=\"3a48027b99178da2d0ff3eaeba62f78c\", element=\"6135ce90-0a6b-4487-bc51-348ede3cac89\")>,\n",
       " <selenium.webdriver.remote.webelement.WebElement (session=\"3a48027b99178da2d0ff3eaeba62f78c\", element=\"efac40fe-6fee-4228-a9e6-aa7ea4e40e0a\")>,\n",
       " <selenium.webdriver.remote.webelement.WebElement (session=\"3a48027b99178da2d0ff3eaeba62f78c\", element=\"182aff15-9074-477d-8183-49173218e70e\")>,\n",
       " <selenium.webdriver.remote.webelement.WebElement (session=\"3a48027b99178da2d0ff3eaeba62f78c\", element=\"a6d4d060-0e9b-4f36-867c-f68cb5d7f976\")>]"
      ]
     },
     "execution_count": 215,
     "metadata": {},
     "output_type": "execute_result"
    }
   ],
   "source": [
    "boots"
   ]
  },
  {
   "cell_type": "code",
   "execution_count": 216,
   "metadata": {},
   "outputs": [],
   "source": [
    "boot= boots[0]"
   ]
  },
  {
   "cell_type": "code",
   "execution_count": 217,
   "metadata": {},
   "outputs": [],
   "source": [
    "type_boot = boot.find_element_by_tag_name(\"a\").find_element_by_tag_name(\"h3\")"
   ]
  },
  {
   "cell_type": "code",
   "execution_count": 218,
   "metadata": {},
   "outputs": [],
   "source": [
    "brand = type_boot.find_elements_by_tag_name(\"div\")[0].get_attribute('innerHTML')\n",
    "info = type_boot.find_elements_by_tag_name(\"div\")[1].get_attribute('innerHTML')\n",
    "\n"
   ]
  },
  {
   "cell_type": "code",
   "execution_count": 219,
   "metadata": {},
   "outputs": [],
   "source": [
    "\n",
    "price=boot.find_element_by_tag_name(\"span\").get_attribute('innerHTML')"
   ]
  },
  {
   "cell_type": "code",
   "execution_count": 220,
   "metadata": {},
   "outputs": [
    {
     "data": {
      "text/plain": [
       "'$599.95'"
      ]
     },
     "execution_count": 220,
     "metadata": {},
     "output_type": "execute_result"
    }
   ],
   "source": [
    "boot.find_element_by_xpath('a/div[3]/span').get_attribute('innerHTML')"
   ]
  },
  {
   "cell_type": "code",
   "execution_count": 221,
   "metadata": {},
   "outputs": [
    {
     "data": {
      "text/plain": [
       "'&nbsp;'"
      ]
     },
     "execution_count": 221,
     "metadata": {},
     "output_type": "execute_result"
    }
   ],
   "source": [
    "price"
   ]
  },
  {
   "cell_type": "code",
   "execution_count": 222,
   "metadata": {},
   "outputs": [],
   "source": [
    "def get_boot_info(boot):\n",
    "    type_boot = boot.find_element_by_tag_name(\"a\").find_element_by_tag_name(\"h3\")\n",
    "    brand = type_boot.find_elements_by_tag_name(\"div\")[0].get_attribute('innerHTML')\n",
    "    info = type_boot.find_elements_by_tag_name(\"div\")[1].get_attribute('innerHTML')\n",
    "    price=boot.find_element_by_xpath('a/div[3]/span').get_attribute('innerHTML')\n",
    "    \n",
    "    d= {'brand': brand, 'info': info, 'price':price}\n",
    "    return d"
   ]
  },
  {
   "cell_type": "code",
   "execution_count": 223,
   "metadata": {},
   "outputs": [
    {
     "data": {
      "text/plain": [
       "{'brand': 'Nordica',\n",
       " 'info': \"Cruise 75 Ski Boots - Women's - 2019/2020\",\n",
       " 'price': '$299.95'}"
      ]
     },
     "execution_count": 223,
     "metadata": {},
     "output_type": "execute_result"
    }
   ],
   "source": [
    "get_boot_info(boots[4])"
   ]
  },
  {
   "cell_type": "code",
   "execution_count": 224,
   "metadata": {},
   "outputs": [],
   "source": [
    "#boot.find_element_by_tag_name(\"a\").find_elements_by_tag_name(\"span\")[1].get_attribute('innerHTML')"
   ]
  },
  {
   "cell_type": "code",
   "execution_count": 225,
   "metadata": {},
   "outputs": [
    {
     "data": {
      "text/plain": [
       "'https://www.rei.com/search?q=skii+boots+for+women&page=2'"
      ]
     },
     "execution_count": 225,
     "metadata": {},
     "output_type": "execute_result"
    }
   ],
   "source": [
    "driver.find_elements_by_tag_name(\"nav\")[-1].find_elements_by_tag_name(\"a\")[-1].get_attribute('href')"
   ]
  },
  {
   "cell_type": "code",
   "execution_count": 226,
   "metadata": {},
   "outputs": [],
   "source": [
    "def get_current_page_number(driver):\n",
    "    current_page_number = driver.current_url.split(\"=\")[-1]\n",
    "    if not current_page_number.isnumeric():\n",
    "        current_page_number = '0'\n",
    "    return current_page_number"
   ]
  },
  {
   "cell_type": "code",
   "execution_count": 227,
   "metadata": {},
   "outputs": [],
   "source": [
    "def go_to_next_page(driver):\n",
    "    \n",
    "    \n",
    "    current_page_number = get_current_page_number(driver)\n",
    "    \n",
    "    next_page=driver.find_elements_by_tag_name(\"nav\")[-1].find_elements_by_tag_name(\"a\")[-1].get_attribute('href')\n",
    "    \n",
    "    next_page_number=next_page.split(\"=\")[-1]\n",
    "    if next_page_number < current_page_number:\n",
    "        return current_page_number\n",
    "    \n",
    "    driver.get(next_page)\n",
    "    \n",
    "    \n",
    "    return next_page_number"
   ]
  },
  {
   "cell_type": "code",
   "execution_count": 228,
   "metadata": {},
   "outputs": [
    {
     "data": {
      "text/plain": [
       "'2'"
      ]
     },
     "execution_count": 228,
     "metadata": {},
     "output_type": "execute_result"
    }
   ],
   "source": [
    "go_to_next_page(driver)"
   ]
  },
  {
   "cell_type": "code",
   "execution_count": null,
   "metadata": {},
   "outputs": [],
   "source": []
  },
  {
   "cell_type": "code",
   "execution_count": 229,
   "metadata": {},
   "outputs": [],
   "source": [
    "import time\n",
    "from selenium.webdriver.chrome.options import Options"
   ]
  },
  {
   "cell_type": "code",
   "execution_count": 230,
   "metadata": {},
   "outputs": [],
   "source": [
    "last_page= '0'\n",
    "lista = []\n",
    "\n",
    "\n",
    "def open_driver():\n",
    "    options = Options()\n",
    "    options.add_argument(\"start-maximized\")\n",
    "    options.add_argument('--no-sandbox')\n",
    "\n",
    "    driver= webdriver.Chrome(executable_path='/Users/juliam/Desktop/Python-for-Finance-Repo-master 2/07-Stock-Market-Analysis-Capstone-Project/chromedriver', options=options)\n",
    "    driver.get(\"https://www.rei.com/\")\n",
    "    return driver"
   ]
  },
  {
   "cell_type": "code",
   "execution_count": 231,
   "metadata": {},
   "outputs": [],
   "source": [
    "driver = open_driver()\n",
    "write_what_needed(driver,\"skii boots for women\")\n",
    "\n",
    "while True:\n",
    "    \n",
    "    time.sleep(5)\n",
    "    \n",
    "    current_page_number = get_current_page_number(driver)\n",
    "    search_result = driver.find_element_by_id(\"search-results\")\n",
    "    boots = search_result.find_elements_by_tag_name(\"li\")\n",
    "\n",
    "    for boot in boots:\n",
    "        x = get_boot_info(boot)\n",
    "        lista.append(x)\n",
    "    \n",
    "    \n",
    "    next_page = go_to_next_page(driver)\n",
    "    if current_page_number == next_page:\n",
    "        break\n",
    "\n",
    "driver.close()\n",
    "    "
   ]
  },
  {
   "cell_type": "code",
   "execution_count": 242,
   "metadata": {},
   "outputs": [],
   "source": [
    "df = pd.DataFrame(lista)"
   ]
  },
  {
   "cell_type": "code",
   "execution_count": 243,
   "metadata": {},
   "outputs": [
    {
     "data": {
      "text/html": [
       "<div>\n",
       "<style scoped>\n",
       "    .dataframe tbody tr th:only-of-type {\n",
       "        vertical-align: middle;\n",
       "    }\n",
       "\n",
       "    .dataframe tbody tr th {\n",
       "        vertical-align: top;\n",
       "    }\n",
       "\n",
       "    .dataframe thead th {\n",
       "        text-align: right;\n",
       "    }\n",
       "</style>\n",
       "<table border=\"1\" class=\"dataframe\">\n",
       "  <thead>\n",
       "    <tr style=\"text-align: right;\">\n",
       "      <th></th>\n",
       "      <th>brand</th>\n",
       "      <th>info</th>\n",
       "      <th>price</th>\n",
       "    </tr>\n",
       "  </thead>\n",
       "  <tbody>\n",
       "    <tr>\n",
       "      <th>0</th>\n",
       "      <td>Nordica</td>\n",
       "      <td>HF W 85 Ski Boots - Women's - 2020/2021</td>\n",
       "      <td>$599.95</td>\n",
       "    </tr>\n",
       "    <tr>\n",
       "      <th>1</th>\n",
       "      <td>K2</td>\n",
       "      <td>Mindbender Alliance 110 Ski Boots - Women's - ...</td>\n",
       "      <td>$599.95</td>\n",
       "    </tr>\n",
       "    <tr>\n",
       "      <th>2</th>\n",
       "      <td>K2</td>\n",
       "      <td>Mindbender Alliance 90 Ski Boots - Women's - 2...</td>\n",
       "      <td>$499.95</td>\n",
       "    </tr>\n",
       "    <tr>\n",
       "      <th>3</th>\n",
       "      <td>Atomic</td>\n",
       "      <td>Hawx Magna 105 S W Ski Boots - Women's - 2020/...</td>\n",
       "      <td>$499.95</td>\n",
       "    </tr>\n",
       "    <tr>\n",
       "      <th>4</th>\n",
       "      <td>Nordica</td>\n",
       "      <td>Cruise 75 Ski Boots - Women's - 2019/2020</td>\n",
       "      <td>$299.95</td>\n",
       "    </tr>\n",
       "    <tr>\n",
       "      <th>...</th>\n",
       "      <td>...</td>\n",
       "      <td>...</td>\n",
       "      <td>...</td>\n",
       "    </tr>\n",
       "    <tr>\n",
       "      <th>111</th>\n",
       "      <td>Rossignol</td>\n",
       "      <td>BC X-12 75mm Backcountry Ski Boots</td>\n",
       "      <td>$179.93</td>\n",
       "    </tr>\n",
       "    <tr>\n",
       "      <th>112</th>\n",
       "      <td>REI Co-op</td>\n",
       "      <td>Merino Midweight Base Layer Boot-Length Tights...</td>\n",
       "      <td>$48.89</td>\n",
       "    </tr>\n",
       "    <tr>\n",
       "      <th>113</th>\n",
       "      <td>Alpina</td>\n",
       "      <td>Montana BC Cross-Country Boots</td>\n",
       "      <td>$179.95</td>\n",
       "    </tr>\n",
       "    <tr>\n",
       "      <th>114</th>\n",
       "      <td>Yaktrax</td>\n",
       "      <td>Heated Insoles - Women's</td>\n",
       "      <td>$99.95</td>\n",
       "    </tr>\n",
       "    <tr>\n",
       "      <th>115</th>\n",
       "      <td>HOKA ONE ONE</td>\n",
       "      <td>Sky Kaha GORE-TEX Hiking Boots - Women's</td>\n",
       "      <td>$220.00</td>\n",
       "    </tr>\n",
       "  </tbody>\n",
       "</table>\n",
       "<p>116 rows × 3 columns</p>\n",
       "</div>"
      ],
      "text/plain": [
       "            brand                                               info    price\n",
       "0         Nordica            HF W 85 Ski Boots - Women's - 2020/2021  $599.95\n",
       "1              K2  Mindbender Alliance 110 Ski Boots - Women's - ...  $599.95\n",
       "2              K2  Mindbender Alliance 90 Ski Boots - Women's - 2...  $499.95\n",
       "3          Atomic  Hawx Magna 105 S W Ski Boots - Women's - 2020/...  $499.95\n",
       "4         Nordica          Cruise 75 Ski Boots - Women's - 2019/2020  $299.95\n",
       "..            ...                                                ...      ...\n",
       "111     Rossignol                 BC X-12 75mm Backcountry Ski Boots  $179.93\n",
       "112     REI Co-op  Merino Midweight Base Layer Boot-Length Tights...   $48.89\n",
       "113        Alpina                     Montana BC Cross-Country Boots  $179.95\n",
       "114       Yaktrax                           Heated Insoles - Women's   $99.95\n",
       "115  HOKA ONE ONE           Sky Kaha GORE-TEX Hiking Boots - Women's  $220.00\n",
       "\n",
       "[116 rows x 3 columns]"
      ]
     },
     "execution_count": 243,
     "metadata": {},
     "output_type": "execute_result"
    }
   ],
   "source": [
    "df"
   ]
  },
  {
   "cell_type": "code",
   "execution_count": 244,
   "metadata": {},
   "outputs": [],
   "source": [
    "df['price'] = pd.to_numeric(df['price'].str.replace(\"$\",\"\").str.replace(\",\",\"\"))"
   ]
  },
  {
   "cell_type": "code",
   "execution_count": 254,
   "metadata": {},
   "outputs": [
    {
     "data": {
      "text/html": [
       "<div>\n",
       "<style scoped>\n",
       "    .dataframe tbody tr th:only-of-type {\n",
       "        vertical-align: middle;\n",
       "    }\n",
       "\n",
       "    .dataframe tbody tr th {\n",
       "        vertical-align: top;\n",
       "    }\n",
       "\n",
       "    .dataframe thead th {\n",
       "        text-align: right;\n",
       "    }\n",
       "</style>\n",
       "<table border=\"1\" class=\"dataframe\">\n",
       "  <thead>\n",
       "    <tr style=\"text-align: right;\">\n",
       "      <th></th>\n",
       "      <th>brand</th>\n",
       "      <th>info</th>\n",
       "      <th>price</th>\n",
       "    </tr>\n",
       "  </thead>\n",
       "  <tbody>\n",
       "    <tr>\n",
       "      <th>0</th>\n",
       "      <td>Nordica</td>\n",
       "      <td>HF W 85 Ski Boots - Women's - 2020/2021</td>\n",
       "      <td>599.95</td>\n",
       "    </tr>\n",
       "    <tr>\n",
       "      <th>1</th>\n",
       "      <td>K2</td>\n",
       "      <td>Mindbender Alliance 110 Ski Boots - Women's - ...</td>\n",
       "      <td>599.95</td>\n",
       "    </tr>\n",
       "    <tr>\n",
       "      <th>2</th>\n",
       "      <td>K2</td>\n",
       "      <td>Mindbender Alliance 90 Ski Boots - Women's - 2...</td>\n",
       "      <td>499.95</td>\n",
       "    </tr>\n",
       "    <tr>\n",
       "      <th>3</th>\n",
       "      <td>Atomic</td>\n",
       "      <td>Hawx Magna 105 S W Ski Boots - Women's - 2020/...</td>\n",
       "      <td>499.95</td>\n",
       "    </tr>\n",
       "    <tr>\n",
       "      <th>4</th>\n",
       "      <td>Nordica</td>\n",
       "      <td>Cruise 75 Ski Boots - Women's - 2019/2020</td>\n",
       "      <td>299.95</td>\n",
       "    </tr>\n",
       "    <tr>\n",
       "      <th>...</th>\n",
       "      <td>...</td>\n",
       "      <td>...</td>\n",
       "      <td>...</td>\n",
       "    </tr>\n",
       "    <tr>\n",
       "      <th>111</th>\n",
       "      <td>Rossignol</td>\n",
       "      <td>BC X-12 75mm Backcountry Ski Boots</td>\n",
       "      <td>179.93</td>\n",
       "    </tr>\n",
       "    <tr>\n",
       "      <th>112</th>\n",
       "      <td>REI Co-op</td>\n",
       "      <td>Merino Midweight Base Layer Boot-Length Tights...</td>\n",
       "      <td>48.89</td>\n",
       "    </tr>\n",
       "    <tr>\n",
       "      <th>113</th>\n",
       "      <td>Alpina</td>\n",
       "      <td>Montana BC Cross-Country Boots</td>\n",
       "      <td>179.95</td>\n",
       "    </tr>\n",
       "    <tr>\n",
       "      <th>114</th>\n",
       "      <td>Yaktrax</td>\n",
       "      <td>Heated Insoles - Women's</td>\n",
       "      <td>99.95</td>\n",
       "    </tr>\n",
       "    <tr>\n",
       "      <th>115</th>\n",
       "      <td>HOKA ONE ONE</td>\n",
       "      <td>Sky Kaha GORE-TEX Hiking Boots - Women's</td>\n",
       "      <td>220.00</td>\n",
       "    </tr>\n",
       "  </tbody>\n",
       "</table>\n",
       "<p>116 rows × 3 columns</p>\n",
       "</div>"
      ],
      "text/plain": [
       "            brand                                               info   price\n",
       "0         Nordica            HF W 85 Ski Boots - Women's - 2020/2021  599.95\n",
       "1              K2  Mindbender Alliance 110 Ski Boots - Women's - ...  599.95\n",
       "2              K2  Mindbender Alliance 90 Ski Boots - Women's - 2...  499.95\n",
       "3          Atomic  Hawx Magna 105 S W Ski Boots - Women's - 2020/...  499.95\n",
       "4         Nordica          Cruise 75 Ski Boots - Women's - 2019/2020  299.95\n",
       "..            ...                                                ...     ...\n",
       "111     Rossignol                 BC X-12 75mm Backcountry Ski Boots  179.93\n",
       "112     REI Co-op  Merino Midweight Base Layer Boot-Length Tights...   48.89\n",
       "113        Alpina                     Montana BC Cross-Country Boots  179.95\n",
       "114       Yaktrax                           Heated Insoles - Women's   99.95\n",
       "115  HOKA ONE ONE           Sky Kaha GORE-TEX Hiking Boots - Women's  220.00\n",
       "\n",
       "[116 rows x 3 columns]"
      ]
     },
     "execution_count": 254,
     "metadata": {},
     "output_type": "execute_result"
    }
   ],
   "source": [
    "df"
   ]
  },
  {
   "cell_type": "code",
   "execution_count": 256,
   "metadata": {},
   "outputs": [
    {
     "data": {
      "text/html": [
       "<div>\n",
       "<style scoped>\n",
       "    .dataframe tbody tr th:only-of-type {\n",
       "        vertical-align: middle;\n",
       "    }\n",
       "\n",
       "    .dataframe tbody tr th {\n",
       "        vertical-align: top;\n",
       "    }\n",
       "\n",
       "    .dataframe thead tr th {\n",
       "        text-align: left;\n",
       "    }\n",
       "\n",
       "    .dataframe thead tr:last-of-type th {\n",
       "        text-align: right;\n",
       "    }\n",
       "</style>\n",
       "<table border=\"1\" class=\"dataframe\">\n",
       "  <thead>\n",
       "    <tr>\n",
       "      <th></th>\n",
       "      <th colspan=\"2\" halign=\"left\">price</th>\n",
       "    </tr>\n",
       "    <tr>\n",
       "      <th></th>\n",
       "      <th>mean</th>\n",
       "      <th>std</th>\n",
       "    </tr>\n",
       "    <tr>\n",
       "      <th>brand</th>\n",
       "      <th></th>\n",
       "      <th></th>\n",
       "    </tr>\n",
       "  </thead>\n",
       "  <tbody>\n",
       "    <tr>\n",
       "      <th>ALFA</th>\n",
       "      <td>300.000000</td>\n",
       "      <td>70.710678</td>\n",
       "    </tr>\n",
       "    <tr>\n",
       "      <th>Alpina</th>\n",
       "      <td>213.697500</td>\n",
       "      <td>62.316302</td>\n",
       "    </tr>\n",
       "    <tr>\n",
       "      <th>Apex Ski Boots</th>\n",
       "      <td>623.965000</td>\n",
       "      <td>35.404837</td>\n",
       "    </tr>\n",
       "    <tr>\n",
       "      <th>Atomic</th>\n",
       "      <td>361.607778</td>\n",
       "      <td>91.591257</td>\n",
       "    </tr>\n",
       "    <tr>\n",
       "      <th>Dalbello</th>\n",
       "      <td>458.280000</td>\n",
       "      <td>203.515929</td>\n",
       "    </tr>\n",
       "    <tr>\n",
       "      <th>Dynafit</th>\n",
       "      <td>712.450000</td>\n",
       "      <td>85.391256</td>\n",
       "    </tr>\n",
       "    <tr>\n",
       "      <th>Fischer</th>\n",
       "      <td>173.385714</td>\n",
       "      <td>40.297381</td>\n",
       "    </tr>\n",
       "    <tr>\n",
       "      <th>HOKA ONE ONE</th>\n",
       "      <td>220.000000</td>\n",
       "      <td>NaN</td>\n",
       "    </tr>\n",
       "    <tr>\n",
       "      <th>K2</th>\n",
       "      <td>391.938000</td>\n",
       "      <td>112.040311</td>\n",
       "    </tr>\n",
       "    <tr>\n",
       "      <th>Lange</th>\n",
       "      <td>279.940000</td>\n",
       "      <td>90.564158</td>\n",
       "    </tr>\n",
       "    <tr>\n",
       "      <th>Madshus</th>\n",
       "      <td>163.288333</td>\n",
       "      <td>58.532617</td>\n",
       "    </tr>\n",
       "    <tr>\n",
       "      <th>Nordica</th>\n",
       "      <td>361.607778</td>\n",
       "      <td>150.794424</td>\n",
       "    </tr>\n",
       "    <tr>\n",
       "      <th>REI Co-op</th>\n",
       "      <td>48.890000</td>\n",
       "      <td>NaN</td>\n",
       "    </tr>\n",
       "    <tr>\n",
       "      <th>Rossignol</th>\n",
       "      <td>262.961111</td>\n",
       "      <td>121.106675</td>\n",
       "    </tr>\n",
       "    <tr>\n",
       "      <th>Salomon</th>\n",
       "      <td>410.359333</td>\n",
       "      <td>209.198105</td>\n",
       "    </tr>\n",
       "    <tr>\n",
       "      <th>Scarpa</th>\n",
       "      <td>612.630000</td>\n",
       "      <td>147.845426</td>\n",
       "    </tr>\n",
       "    <tr>\n",
       "      <th>Scott</th>\n",
       "      <td>629.950000</td>\n",
       "      <td>NaN</td>\n",
       "    </tr>\n",
       "    <tr>\n",
       "      <th>Tecnica</th>\n",
       "      <td>375.730000</td>\n",
       "      <td>103.581060</td>\n",
       "    </tr>\n",
       "    <tr>\n",
       "      <th>Yaktrax</th>\n",
       "      <td>99.950000</td>\n",
       "      <td>NaN</td>\n",
       "    </tr>\n",
       "  </tbody>\n",
       "</table>\n",
       "</div>"
      ],
      "text/plain": [
       "                     price            \n",
       "                      mean         std\n",
       "brand                                 \n",
       "ALFA            300.000000   70.710678\n",
       "Alpina          213.697500   62.316302\n",
       "Apex Ski Boots  623.965000   35.404837\n",
       "Atomic          361.607778   91.591257\n",
       "Dalbello        458.280000  203.515929\n",
       "Dynafit         712.450000   85.391256\n",
       "Fischer         173.385714   40.297381\n",
       "HOKA ONE ONE    220.000000         NaN\n",
       "K2              391.938000  112.040311\n",
       "Lange           279.940000   90.564158\n",
       "Madshus         163.288333   58.532617\n",
       "Nordica         361.607778  150.794424\n",
       "REI Co-op        48.890000         NaN\n",
       "Rossignol       262.961111  121.106675\n",
       "Salomon         410.359333  209.198105\n",
       "Scarpa          612.630000  147.845426\n",
       "Scott           629.950000         NaN\n",
       "Tecnica         375.730000  103.581060\n",
       "Yaktrax          99.950000         NaN"
      ]
     },
     "execution_count": 256,
     "metadata": {},
     "output_type": "execute_result"
    }
   ],
   "source": [
    "df.groupby(['brand']).agg({\n",
    "    'price': [np.mean, np.std],\n",
    "})"
   ]
  },
  {
   "cell_type": "code",
   "execution_count": null,
   "metadata": {},
   "outputs": [],
   "source": []
  },
  {
   "cell_type": "code",
   "execution_count": null,
   "metadata": {},
   "outputs": [],
   "source": []
  },
  {
   "cell_type": "code",
   "execution_count": null,
   "metadata": {},
   "outputs": [],
   "source": []
  },
  {
   "cell_type": "code",
   "execution_count": null,
   "metadata": {},
   "outputs": [],
   "source": []
  },
  {
   "cell_type": "code",
   "execution_count": null,
   "metadata": {},
   "outputs": [],
   "source": []
  },
  {
   "cell_type": "code",
   "execution_count": null,
   "metadata": {},
   "outputs": [],
   "source": []
  },
  {
   "cell_type": "code",
   "execution_count": null,
   "metadata": {},
   "outputs": [],
   "source": []
  },
  {
   "cell_type": "code",
   "execution_count": null,
   "metadata": {},
   "outputs": [],
   "source": []
  }
 ],
 "metadata": {
  "kernelspec": {
   "display_name": "Python 3",
   "language": "python",
   "name": "python3"
  },
  "language_info": {
   "codemirror_mode": {
    "name": "ipython",
    "version": 3
   },
   "file_extension": ".py",
   "mimetype": "text/x-python",
   "name": "python",
   "nbconvert_exporter": "python",
   "pygments_lexer": "ipython3",
   "version": "3.7.3"
  }
 },
 "nbformat": 4,
 "nbformat_minor": 4
}
