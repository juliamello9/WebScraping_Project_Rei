{
 "cells": [
  {
   "cell_type": "code",
   "execution_count": 87,
   "metadata": {},
   "outputs": [],
   "source": [
    "import pandas as pd\n",
    "import numpy as np\n",
    "import selenium\n",
    "import os\n",
    "from selenium import webdriver"
   ]
  },
  {
   "cell_type": "markdown",
   "metadata": {},
   "source": [
    "## On this project, let's perform a Web Scraping that goes to the REI website and scrapes data about skii boots!"
   ]
  },
  {
   "cell_type": "code",
   "execution_count": 93,
   "metadata": {},
   "outputs": [],
   "source": [
    "driver= webdriver.Chrome(executable_path='/Users/juliam/Desktop/Python-for-Finance-Repo-master 2/07-Stock-Market-Analysis-Capstone-Project/chromedriver')\n",
    "driver.get(\"https://www.rei.com/\")"
   ]
  },
  {
   "cell_type": "code",
   "execution_count": 94,
   "metadata": {},
   "outputs": [],
   "source": [
    "elem= driver.find_element_by_id(\"inputGroup\")"
   ]
  },
  {
   "cell_type": "code",
   "execution_count": 95,
   "metadata": {},
   "outputs": [
    {
     "data": {
      "text/plain": [
       "<selenium.webdriver.remote.webelement.WebElement (session=\"fdbcefc711e644ea619d55c1fdc9f500\", element=\"630db48a-1426-426b-8020-ac66b90947c4\")>"
      ]
     },
     "execution_count": 95,
     "metadata": {},
     "output_type": "execute_result"
    }
   ],
   "source": [
    "elem"
   ]
  },
  {
   "cell_type": "code",
   "execution_count": 96,
   "metadata": {},
   "outputs": [],
   "source": [
    "elem.send_keys(\"skii boots for women\")"
   ]
  },
  {
   "cell_type": "code",
   "execution_count": 97,
   "metadata": {},
   "outputs": [],
   "source": [
    "driver.find_element_by_class_name(\"input-group-btn\").click()"
   ]
  },
  {
   "cell_type": "markdown",
   "metadata": {},
   "source": [
    "### Now that our bot already goes to the site and writes down what we want, let's make it scrape all the information."
   ]
  },
  {
   "cell_type": "code",
   "execution_count": 98,
   "metadata": {},
   "outputs": [],
   "source": [
    "boot_type = driver.find_element_by_class_name(\"r9nAQ5Ik_3veCKyyZkP0b\")"
   ]
  },
  {
   "cell_type": "code",
   "execution_count": 99,
   "metadata": {},
   "outputs": [],
   "source": [
    "boot_brand = driver.find_element_by_class_name(\"_1fwp3k8dh1lbhAAenp87CH\")"
   ]
  },
  {
   "cell_type": "code",
   "execution_count": 100,
   "metadata": {},
   "outputs": [],
   "source": [
    "boot_price = driver.find_element_by_class_name(\"_1zwqhlCzOK-xETXwFg_-iZ\")"
   ]
  },
  {
   "cell_type": "code",
   "execution_count": 101,
   "metadata": {},
   "outputs": [
    {
     "data": {
      "text/plain": [
       "'<span class=\"\">$599.95</span>'"
      ]
     },
     "execution_count": 101,
     "metadata": {},
     "output_type": "execute_result"
    }
   ],
   "source": [
    "boot_price.get_attribute('innerHTML')"
   ]
  },
  {
   "cell_type": "markdown",
   "metadata": {},
   "source": [
    "## Agora vamos então fazer o Loop para puxar as informações de todas as botas:"
   ]
  },
  {
   "cell_type": "code",
   "execution_count": 118,
   "metadata": {},
   "outputs": [],
   "source": [
    "search_result= driver.find_element_by_id(\"search-results\")"
   ]
  },
  {
   "cell_type": "code",
   "execution_count": 119,
   "metadata": {},
   "outputs": [],
   "source": [
    "boots = search_result.find_elements_by_tag_name(\"li\")"
   ]
  },
  {
   "cell_type": "code",
   "execution_count": 120,
   "metadata": {},
   "outputs": [
    {
     "data": {
      "text/plain": [
       "[<selenium.webdriver.remote.webelement.WebElement (session=\"fdbcefc711e644ea619d55c1fdc9f500\", element=\"c391b749-1328-4805-8990-c9efeef82ab5\")>,\n",
       " <selenium.webdriver.remote.webelement.WebElement (session=\"fdbcefc711e644ea619d55c1fdc9f500\", element=\"100475c6-6cdf-4e92-b7d3-0e577eb9b6c3\")>,\n",
       " <selenium.webdriver.remote.webelement.WebElement (session=\"fdbcefc711e644ea619d55c1fdc9f500\", element=\"8a01e069-64d7-463a-916a-3e94e4cd6222\")>,\n",
       " <selenium.webdriver.remote.webelement.WebElement (session=\"fdbcefc711e644ea619d55c1fdc9f500\", element=\"b5b17af4-a254-41b5-9f29-d24723dce851\")>,\n",
       " <selenium.webdriver.remote.webelement.WebElement (session=\"fdbcefc711e644ea619d55c1fdc9f500\", element=\"add2024d-a043-4bdc-9945-a327ddd5a3c6\")>,\n",
       " <selenium.webdriver.remote.webelement.WebElement (session=\"fdbcefc711e644ea619d55c1fdc9f500\", element=\"260c0fad-f76b-44e9-8475-dddfd91597ee\")>,\n",
       " <selenium.webdriver.remote.webelement.WebElement (session=\"fdbcefc711e644ea619d55c1fdc9f500\", element=\"b4790311-e7f7-407e-a67d-8539c9d5e6ee\")>,\n",
       " <selenium.webdriver.remote.webelement.WebElement (session=\"fdbcefc711e644ea619d55c1fdc9f500\", element=\"cbfb102c-0264-4ef3-80a9-19236f1628a2\")>,\n",
       " <selenium.webdriver.remote.webelement.WebElement (session=\"fdbcefc711e644ea619d55c1fdc9f500\", element=\"b2dbb381-35c4-459d-919a-f1373ec96b05\")>,\n",
       " <selenium.webdriver.remote.webelement.WebElement (session=\"fdbcefc711e644ea619d55c1fdc9f500\", element=\"8108d486-3303-45dd-96cf-87b95cb6c35f\")>,\n",
       " <selenium.webdriver.remote.webelement.WebElement (session=\"fdbcefc711e644ea619d55c1fdc9f500\", element=\"e102e9fa-b5c0-462a-a71b-b08884a9221d\")>,\n",
       " <selenium.webdriver.remote.webelement.WebElement (session=\"fdbcefc711e644ea619d55c1fdc9f500\", element=\"f15c8d72-9aea-4b7f-ac5a-969370a59392\")>,\n",
       " <selenium.webdriver.remote.webelement.WebElement (session=\"fdbcefc711e644ea619d55c1fdc9f500\", element=\"151661d8-e372-4782-abea-bb05ff9003e2\")>,\n",
       " <selenium.webdriver.remote.webelement.WebElement (session=\"fdbcefc711e644ea619d55c1fdc9f500\", element=\"d28b326e-6408-4779-bf7c-ae24cb7afb0f\")>,\n",
       " <selenium.webdriver.remote.webelement.WebElement (session=\"fdbcefc711e644ea619d55c1fdc9f500\", element=\"55b787c8-011a-46c7-8cd0-24dc33fe480c\")>,\n",
       " <selenium.webdriver.remote.webelement.WebElement (session=\"fdbcefc711e644ea619d55c1fdc9f500\", element=\"12fcb616-030f-4eae-bbd5-37a3aa5a5f72\")>,\n",
       " <selenium.webdriver.remote.webelement.WebElement (session=\"fdbcefc711e644ea619d55c1fdc9f500\", element=\"bd7c5be2-0ea1-4348-b3ee-b314f6b5db5b\")>,\n",
       " <selenium.webdriver.remote.webelement.WebElement (session=\"fdbcefc711e644ea619d55c1fdc9f500\", element=\"ff6c9e1b-d6e4-42d2-b6a3-ba74c1c5c258\")>,\n",
       " <selenium.webdriver.remote.webelement.WebElement (session=\"fdbcefc711e644ea619d55c1fdc9f500\", element=\"5b432c2d-0278-4a9c-91f6-da6185f77818\")>,\n",
       " <selenium.webdriver.remote.webelement.WebElement (session=\"fdbcefc711e644ea619d55c1fdc9f500\", element=\"163de41e-b7f6-45b0-83b5-b1823745af04\")>,\n",
       " <selenium.webdriver.remote.webelement.WebElement (session=\"fdbcefc711e644ea619d55c1fdc9f500\", element=\"1e22727a-5297-425f-aef0-8ff28eacae9a\")>,\n",
       " <selenium.webdriver.remote.webelement.WebElement (session=\"fdbcefc711e644ea619d55c1fdc9f500\", element=\"5dc1c16b-d783-4b63-862d-0b4b597e099b\")>,\n",
       " <selenium.webdriver.remote.webelement.WebElement (session=\"fdbcefc711e644ea619d55c1fdc9f500\", element=\"fa266dc8-a747-4f32-99a8-861fb56a5dea\")>,\n",
       " <selenium.webdriver.remote.webelement.WebElement (session=\"fdbcefc711e644ea619d55c1fdc9f500\", element=\"0dacf08a-b86d-4b5b-9dfb-d99d8a334ea5\")>,\n",
       " <selenium.webdriver.remote.webelement.WebElement (session=\"fdbcefc711e644ea619d55c1fdc9f500\", element=\"cf8513a3-70d0-4020-97e3-f02d8863dd9e\")>,\n",
       " <selenium.webdriver.remote.webelement.WebElement (session=\"fdbcefc711e644ea619d55c1fdc9f500\", element=\"5a18342d-e726-49ad-90a7-4bd5f8bcb010\")>,\n",
       " <selenium.webdriver.remote.webelement.WebElement (session=\"fdbcefc711e644ea619d55c1fdc9f500\", element=\"e17bd2ae-006c-4a27-a7c1-6d6de8e9f105\")>,\n",
       " <selenium.webdriver.remote.webelement.WebElement (session=\"fdbcefc711e644ea619d55c1fdc9f500\", element=\"34ed2bff-09c4-4740-841a-01a559acbcc9\")>,\n",
       " <selenium.webdriver.remote.webelement.WebElement (session=\"fdbcefc711e644ea619d55c1fdc9f500\", element=\"6dabb744-a388-4d34-94fd-7388261c2f59\")>,\n",
       " <selenium.webdriver.remote.webelement.WebElement (session=\"fdbcefc711e644ea619d55c1fdc9f500\", element=\"30070b10-21d5-49ab-937a-49315b58dbfc\")>]"
      ]
     },
     "execution_count": 120,
     "metadata": {},
     "output_type": "execute_result"
    }
   ],
   "source": [
    "boots"
   ]
  },
  {
   "cell_type": "code",
   "execution_count": 121,
   "metadata": {},
   "outputs": [],
   "source": [
    "boot= boots[0]"
   ]
  },
  {
   "cell_type": "code",
   "execution_count": 122,
   "metadata": {},
   "outputs": [],
   "source": [
    "type_boot = boot.find_element_by_tag_name(\"a\").find_element_by_tag_name(\"h3\")"
   ]
  },
  {
   "cell_type": "code",
   "execution_count": 123,
   "metadata": {},
   "outputs": [],
   "source": [
    "brand = type_boot.find_elements_by_tag_name(\"div\")[0].get_attribute('innerHTML')\n",
    "info = type_boot.find_elements_by_tag_name(\"div\")[1].get_attribute('innerHTML')\n",
    "\n"
   ]
  },
  {
   "cell_type": "code",
   "execution_count": 126,
   "metadata": {},
   "outputs": [],
   "source": [
    "\n",
    "price=boot.find_element_by_tag_name(\"span\").get_attribute('innerHTML')"
   ]
  },
  {
   "cell_type": "code",
   "execution_count": 132,
   "metadata": {},
   "outputs": [
    {
     "data": {
      "text/plain": [
       "'$599.95'"
      ]
     },
     "execution_count": 132,
     "metadata": {},
     "output_type": "execute_result"
    }
   ],
   "source": [
    "boot.find_element_by_xpath('a/div[3]/span').get_attribute('innerHTML')"
   ]
  },
  {
   "cell_type": "code",
   "execution_count": 127,
   "metadata": {},
   "outputs": [
    {
     "data": {
      "text/plain": [
       "'&nbsp;'"
      ]
     },
     "execution_count": 127,
     "metadata": {},
     "output_type": "execute_result"
    }
   ],
   "source": [
    "price"
   ]
  },
  {
   "cell_type": "code",
   "execution_count": 135,
   "metadata": {},
   "outputs": [],
   "source": [
    "def get_boot_info(boot):\n",
    "    type_boot = boot.find_element_by_tag_name(\"a\").find_element_by_tag_name(\"h3\")\n",
    "    brand = type_boot.find_elements_by_tag_name(\"div\")[0].get_attribute('innerHTML')\n",
    "    info = type_boot.find_elements_by_tag_name(\"div\")[1].get_attribute('innerHTML')\n",
    "    price=boot.find_element_by_xpath('a/div[3]/span').get_attribute('innerHTML')\n",
    "    \n",
    "    d= {'brand': brand, 'info': info, 'price':price}\n",
    "    return d"
   ]
  },
  {
   "cell_type": "code",
   "execution_count": 136,
   "metadata": {},
   "outputs": [
    {
     "data": {
      "text/plain": [
       "{'brand': 'Nordica',\n",
       " 'info': \"Cruise 75 Ski Boots - Women's - 2019/2020\",\n",
       " 'price': '$299.95'}"
      ]
     },
     "execution_count": 136,
     "metadata": {},
     "output_type": "execute_result"
    }
   ],
   "source": [
    "get_boot_info(boots[4])"
   ]
  },
  {
   "cell_type": "code",
   "execution_count": null,
   "metadata": {},
   "outputs": [],
   "source": [
    "//*[@id=\"search-results\"]/ul/li[5]/a/div[3]/span"
   ]
  },
  {
   "cell_type": "code",
   "execution_count": 137,
   "metadata": {},
   "outputs": [],
   "source": [
    "#boot.find_element_by_tag_name(\"a\").find_elements_by_tag_name(\"span\")[1].get_attribute('innerHTML')"
   ]
  },
  {
   "cell_type": "code",
   "execution_count": 138,
   "metadata": {},
   "outputs": [],
   "source": [
    "lista = []"
   ]
  },
  {
   "cell_type": "code",
   "execution_count": 139,
   "metadata": {},
   "outputs": [],
   "source": [
    "for boot in boots:\n",
    "    x = get_boot_info(boot)\n",
    "    lista.append(x)\n",
    "    "
   ]
  },
  {
   "cell_type": "code",
   "execution_count": 140,
   "metadata": {},
   "outputs": [
    {
     "data": {
      "text/plain": [
       "[{'brand': 'Nordica',\n",
       "  'info': \"HF W 85 Ski Boots - Women's - 2020/2021\",\n",
       "  'price': '$599.95'},\n",
       " {'brand': 'K2',\n",
       "  'info': \"Mindbender Alliance 110 Ski Boots - Women's - 2020/2021\",\n",
       "  'price': '$599.95'},\n",
       " {'brand': 'K2',\n",
       "  'info': \"Mindbender Alliance 90 Ski Boots - Women's - 2020/2021\",\n",
       "  'price': '$499.95'},\n",
       " {'brand': 'Atomic',\n",
       "  'info': \"Hawx Magna 105 S W Ski Boots - Women's - 2020/2021\",\n",
       "  'price': '$499.95'},\n",
       " {'brand': 'Nordica',\n",
       "  'info': \"Cruise 75 Ski Boots - Women's - 2019/2020\",\n",
       "  'price': '$299.95'},\n",
       " {'brand': 'Atomic',\n",
       "  'info': \"Hawx Magna 105 S W Ski Boots - Women's - 2019/2020\",\n",
       "  'price': '$349.93'},\n",
       " {'brand': 'Nordica',\n",
       "  'info': \"Speedmachine 85 Ski Boots - Women's - 2019/2020\",\n",
       "  'price': '$279.93'},\n",
       " {'brand': 'Nordica',\n",
       "  'info': \"Cruise 95 Ski Boots - Women's - 2019/2020\",\n",
       "  'price': '$279.93'},\n",
       " {'brand': 'Nordica',\n",
       "  'info': \"Cruise 65 Ski Boots - Women's - 2019/2020\",\n",
       "  'price': '$199.95'},\n",
       " {'brand': 'Apex Ski Boots',\n",
       "  'info': \"Blanca Ski Boots - Women's - 2019/2020\",\n",
       "  'price': '$649.00'},\n",
       " {'brand': 'Tecnica',\n",
       "  'info': \"Cochise 85 Ski Boots - Women's - 2019/2020\",\n",
       "  'price': '$279.93'},\n",
       " {'brand': 'K2',\n",
       "  'info': \"Anthem 80 Ski Boots - Women's - 2019/2020\",\n",
       "  'price': '$239.93'},\n",
       " {'brand': 'Atomic',\n",
       "  'info': \"Hawx Prime 85 Ski Boots - Women's - 2019/2020\",\n",
       "  'price': '$244.93'},\n",
       " {'brand': 'Lange',\n",
       "  'info': \"SX 80 Ski Boots - Women's - 2018/2019\",\n",
       "  'price': '$209.93'},\n",
       " {'brand': 'Rossignol',\n",
       "  'info': \"Pure Elite 70 Ski Boots - Women's - 2018/2019\",\n",
       "  'price': '$209.93'},\n",
       " {'brand': 'Rossignol',\n",
       "  'info': \"Pure Comfort 60 Ski Boots - Women's - 2020/2021\",\n",
       "  'price': '$219.95'},\n",
       " {'brand': 'Nordica',\n",
       "  'info': \"Speedmachine 105 Ski Boots - Women's - 2018/2019\",\n",
       "  'price': '$384.93'},\n",
       " {'brand': 'Nordica',\n",
       "  'info': \"Speedmachine 75 Ski Boots - Women's - 2018/2019\",\n",
       "  'price': '$209.93'},\n",
       " {'brand': 'Tecnica',\n",
       "  'info': \"Cochise 95 Ski Boots - Women's - 2018/2019\",\n",
       "  'price': '$349.83'},\n",
       " {'brand': 'Tecnica',\n",
       "  'info': \"Cochise 85 Ski Boots - Women's - 2018/2019\",\n",
       "  'price': '$279.83'},\n",
       " {'brand': 'Apex Ski Boots',\n",
       "  'info': \"XP-L Ski Boots - Women's - 2017/2018\",\n",
       "  'price': '$598.93'},\n",
       " {'brand': 'Dalbello',\n",
       "  'info': \"Kyra MX 70 Ski Boots - Women's - 2017/2018\",\n",
       "  'price': '$199.93'},\n",
       " {'brand': 'Nordica',\n",
       "  'info': \"Speedmachine 105 W Ski Boots - Women's - 2020/2021\",\n",
       "  'price': '$599.95'},\n",
       " {'brand': 'Nordica',\n",
       "  'info': \"Speedmachine 85 W Ski Boots - Women's - 2020/2021\",\n",
       "  'price': '$399.95'},\n",
       " {'brand': 'K2',\n",
       "  'info': \"Anthem 100 LV Ski Boots - Women's - 2020/2021\",\n",
       "  'price': '$499.95'},\n",
       " {'brand': 'K2',\n",
       "  'info': \"Anthem 80 MV Ski Boots - Women's - 2020/2021\",\n",
       "  'price': '$399.95'},\n",
       " {'brand': 'Atomic',\n",
       "  'info': \"Hawx Prime 95 W Ski Boots - Women's - 2020/2021\",\n",
       "  'price': '$399.95'},\n",
       " {'brand': 'Atomic',\n",
       "  'info': \"Hawx Magna 85 W Ski Boots - Women's - 2020/2021\",\n",
       "  'price': '$349.95'},\n",
       " {'brand': 'Atomic',\n",
       "  'info': \"Hawx Prime 85 W Ski Boots - Women's - 2020/2021\",\n",
       "  'price': '$349.95'},\n",
       " {'brand': 'Alpina',\n",
       "  'info': \"Outlander Eve Cross-Country Ski Boots - Women's\",\n",
       "  'price': '$159.95'}]"
      ]
     },
     "execution_count": 140,
     "metadata": {},
     "output_type": "execute_result"
    }
   ],
   "source": [
    "lista"
   ]
  },
  {
   "cell_type": "code",
   "execution_count": 141,
   "metadata": {},
   "outputs": [],
   "source": [
    "df = pd.DataFrame(lista)"
   ]
  },
  {
   "cell_type": "code",
   "execution_count": 142,
   "metadata": {},
   "outputs": [
    {
     "data": {
      "text/html": [
       "<div>\n",
       "<style scoped>\n",
       "    .dataframe tbody tr th:only-of-type {\n",
       "        vertical-align: middle;\n",
       "    }\n",
       "\n",
       "    .dataframe tbody tr th {\n",
       "        vertical-align: top;\n",
       "    }\n",
       "\n",
       "    .dataframe thead th {\n",
       "        text-align: right;\n",
       "    }\n",
       "</style>\n",
       "<table border=\"1\" class=\"dataframe\">\n",
       "  <thead>\n",
       "    <tr style=\"text-align: right;\">\n",
       "      <th></th>\n",
       "      <th>brand</th>\n",
       "      <th>info</th>\n",
       "      <th>price</th>\n",
       "    </tr>\n",
       "  </thead>\n",
       "  <tbody>\n",
       "    <tr>\n",
       "      <th>0</th>\n",
       "      <td>Nordica</td>\n",
       "      <td>HF W 85 Ski Boots - Women's - 2020/2021</td>\n",
       "      <td>$599.95</td>\n",
       "    </tr>\n",
       "    <tr>\n",
       "      <th>1</th>\n",
       "      <td>K2</td>\n",
       "      <td>Mindbender Alliance 110 Ski Boots - Women's - ...</td>\n",
       "      <td>$599.95</td>\n",
       "    </tr>\n",
       "    <tr>\n",
       "      <th>2</th>\n",
       "      <td>K2</td>\n",
       "      <td>Mindbender Alliance 90 Ski Boots - Women's - 2...</td>\n",
       "      <td>$499.95</td>\n",
       "    </tr>\n",
       "    <tr>\n",
       "      <th>3</th>\n",
       "      <td>Atomic</td>\n",
       "      <td>Hawx Magna 105 S W Ski Boots - Women's - 2020/...</td>\n",
       "      <td>$499.95</td>\n",
       "    </tr>\n",
       "    <tr>\n",
       "      <th>4</th>\n",
       "      <td>Nordica</td>\n",
       "      <td>Cruise 75 Ski Boots - Women's - 2019/2020</td>\n",
       "      <td>$299.95</td>\n",
       "    </tr>\n",
       "    <tr>\n",
       "      <th>5</th>\n",
       "      <td>Atomic</td>\n",
       "      <td>Hawx Magna 105 S W Ski Boots - Women's - 2019/...</td>\n",
       "      <td>$349.93</td>\n",
       "    </tr>\n",
       "    <tr>\n",
       "      <th>6</th>\n",
       "      <td>Nordica</td>\n",
       "      <td>Speedmachine 85 Ski Boots - Women's - 2019/2020</td>\n",
       "      <td>$279.93</td>\n",
       "    </tr>\n",
       "    <tr>\n",
       "      <th>7</th>\n",
       "      <td>Nordica</td>\n",
       "      <td>Cruise 95 Ski Boots - Women's - 2019/2020</td>\n",
       "      <td>$279.93</td>\n",
       "    </tr>\n",
       "    <tr>\n",
       "      <th>8</th>\n",
       "      <td>Nordica</td>\n",
       "      <td>Cruise 65 Ski Boots - Women's - 2019/2020</td>\n",
       "      <td>$199.95</td>\n",
       "    </tr>\n",
       "    <tr>\n",
       "      <th>9</th>\n",
       "      <td>Apex Ski Boots</td>\n",
       "      <td>Blanca Ski Boots - Women's - 2019/2020</td>\n",
       "      <td>$649.00</td>\n",
       "    </tr>\n",
       "    <tr>\n",
       "      <th>10</th>\n",
       "      <td>Tecnica</td>\n",
       "      <td>Cochise 85 Ski Boots - Women's - 2019/2020</td>\n",
       "      <td>$279.93</td>\n",
       "    </tr>\n",
       "    <tr>\n",
       "      <th>11</th>\n",
       "      <td>K2</td>\n",
       "      <td>Anthem 80 Ski Boots - Women's - 2019/2020</td>\n",
       "      <td>$239.93</td>\n",
       "    </tr>\n",
       "    <tr>\n",
       "      <th>12</th>\n",
       "      <td>Atomic</td>\n",
       "      <td>Hawx Prime 85 Ski Boots - Women's - 2019/2020</td>\n",
       "      <td>$244.93</td>\n",
       "    </tr>\n",
       "    <tr>\n",
       "      <th>13</th>\n",
       "      <td>Lange</td>\n",
       "      <td>SX 80 Ski Boots - Women's - 2018/2019</td>\n",
       "      <td>$209.93</td>\n",
       "    </tr>\n",
       "    <tr>\n",
       "      <th>14</th>\n",
       "      <td>Rossignol</td>\n",
       "      <td>Pure Elite 70 Ski Boots - Women's - 2018/2019</td>\n",
       "      <td>$209.93</td>\n",
       "    </tr>\n",
       "    <tr>\n",
       "      <th>15</th>\n",
       "      <td>Rossignol</td>\n",
       "      <td>Pure Comfort 60 Ski Boots - Women's - 2020/2021</td>\n",
       "      <td>$219.95</td>\n",
       "    </tr>\n",
       "    <tr>\n",
       "      <th>16</th>\n",
       "      <td>Nordica</td>\n",
       "      <td>Speedmachine 105 Ski Boots - Women's - 2018/2019</td>\n",
       "      <td>$384.93</td>\n",
       "    </tr>\n",
       "    <tr>\n",
       "      <th>17</th>\n",
       "      <td>Nordica</td>\n",
       "      <td>Speedmachine 75 Ski Boots - Women's - 2018/2019</td>\n",
       "      <td>$209.93</td>\n",
       "    </tr>\n",
       "    <tr>\n",
       "      <th>18</th>\n",
       "      <td>Tecnica</td>\n",
       "      <td>Cochise 95 Ski Boots - Women's - 2018/2019</td>\n",
       "      <td>$349.83</td>\n",
       "    </tr>\n",
       "    <tr>\n",
       "      <th>19</th>\n",
       "      <td>Tecnica</td>\n",
       "      <td>Cochise 85 Ski Boots - Women's - 2018/2019</td>\n",
       "      <td>$279.83</td>\n",
       "    </tr>\n",
       "    <tr>\n",
       "      <th>20</th>\n",
       "      <td>Apex Ski Boots</td>\n",
       "      <td>XP-L Ski Boots - Women's - 2017/2018</td>\n",
       "      <td>$598.93</td>\n",
       "    </tr>\n",
       "    <tr>\n",
       "      <th>21</th>\n",
       "      <td>Dalbello</td>\n",
       "      <td>Kyra MX 70 Ski Boots - Women's - 2017/2018</td>\n",
       "      <td>$199.93</td>\n",
       "    </tr>\n",
       "    <tr>\n",
       "      <th>22</th>\n",
       "      <td>Nordica</td>\n",
       "      <td>Speedmachine 105 W Ski Boots - Women's - 2020/...</td>\n",
       "      <td>$599.95</td>\n",
       "    </tr>\n",
       "    <tr>\n",
       "      <th>23</th>\n",
       "      <td>Nordica</td>\n",
       "      <td>Speedmachine 85 W Ski Boots - Women's - 2020/2021</td>\n",
       "      <td>$399.95</td>\n",
       "    </tr>\n",
       "    <tr>\n",
       "      <th>24</th>\n",
       "      <td>K2</td>\n",
       "      <td>Anthem 100 LV Ski Boots - Women's - 2020/2021</td>\n",
       "      <td>$499.95</td>\n",
       "    </tr>\n",
       "    <tr>\n",
       "      <th>25</th>\n",
       "      <td>K2</td>\n",
       "      <td>Anthem 80 MV Ski Boots - Women's - 2020/2021</td>\n",
       "      <td>$399.95</td>\n",
       "    </tr>\n",
       "    <tr>\n",
       "      <th>26</th>\n",
       "      <td>Atomic</td>\n",
       "      <td>Hawx Prime 95 W Ski Boots - Women's - 2020/2021</td>\n",
       "      <td>$399.95</td>\n",
       "    </tr>\n",
       "    <tr>\n",
       "      <th>27</th>\n",
       "      <td>Atomic</td>\n",
       "      <td>Hawx Magna 85 W Ski Boots - Women's - 2020/2021</td>\n",
       "      <td>$349.95</td>\n",
       "    </tr>\n",
       "    <tr>\n",
       "      <th>28</th>\n",
       "      <td>Atomic</td>\n",
       "      <td>Hawx Prime 85 W Ski Boots - Women's - 2020/2021</td>\n",
       "      <td>$349.95</td>\n",
       "    </tr>\n",
       "    <tr>\n",
       "      <th>29</th>\n",
       "      <td>Alpina</td>\n",
       "      <td>Outlander Eve Cross-Country Ski Boots - Women's</td>\n",
       "      <td>$159.95</td>\n",
       "    </tr>\n",
       "  </tbody>\n",
       "</table>\n",
       "</div>"
      ],
      "text/plain": [
       "             brand                                               info    price\n",
       "0          Nordica            HF W 85 Ski Boots - Women's - 2020/2021  $599.95\n",
       "1               K2  Mindbender Alliance 110 Ski Boots - Women's - ...  $599.95\n",
       "2               K2  Mindbender Alliance 90 Ski Boots - Women's - 2...  $499.95\n",
       "3           Atomic  Hawx Magna 105 S W Ski Boots - Women's - 2020/...  $499.95\n",
       "4          Nordica          Cruise 75 Ski Boots - Women's - 2019/2020  $299.95\n",
       "5           Atomic  Hawx Magna 105 S W Ski Boots - Women's - 2019/...  $349.93\n",
       "6          Nordica    Speedmachine 85 Ski Boots - Women's - 2019/2020  $279.93\n",
       "7          Nordica          Cruise 95 Ski Boots - Women's - 2019/2020  $279.93\n",
       "8          Nordica          Cruise 65 Ski Boots - Women's - 2019/2020  $199.95\n",
       "9   Apex Ski Boots             Blanca Ski Boots - Women's - 2019/2020  $649.00\n",
       "10         Tecnica         Cochise 85 Ski Boots - Women's - 2019/2020  $279.93\n",
       "11              K2          Anthem 80 Ski Boots - Women's - 2019/2020  $239.93\n",
       "12          Atomic      Hawx Prime 85 Ski Boots - Women's - 2019/2020  $244.93\n",
       "13           Lange              SX 80 Ski Boots - Women's - 2018/2019  $209.93\n",
       "14       Rossignol      Pure Elite 70 Ski Boots - Women's - 2018/2019  $209.93\n",
       "15       Rossignol    Pure Comfort 60 Ski Boots - Women's - 2020/2021  $219.95\n",
       "16         Nordica   Speedmachine 105 Ski Boots - Women's - 2018/2019  $384.93\n",
       "17         Nordica    Speedmachine 75 Ski Boots - Women's - 2018/2019  $209.93\n",
       "18         Tecnica         Cochise 95 Ski Boots - Women's - 2018/2019  $349.83\n",
       "19         Tecnica         Cochise 85 Ski Boots - Women's - 2018/2019  $279.83\n",
       "20  Apex Ski Boots               XP-L Ski Boots - Women's - 2017/2018  $598.93\n",
       "21        Dalbello         Kyra MX 70 Ski Boots - Women's - 2017/2018  $199.93\n",
       "22         Nordica  Speedmachine 105 W Ski Boots - Women's - 2020/...  $599.95\n",
       "23         Nordica  Speedmachine 85 W Ski Boots - Women's - 2020/2021  $399.95\n",
       "24              K2      Anthem 100 LV Ski Boots - Women's - 2020/2021  $499.95\n",
       "25              K2       Anthem 80 MV Ski Boots - Women's - 2020/2021  $399.95\n",
       "26          Atomic    Hawx Prime 95 W Ski Boots - Women's - 2020/2021  $399.95\n",
       "27          Atomic    Hawx Magna 85 W Ski Boots - Women's - 2020/2021  $349.95\n",
       "28          Atomic    Hawx Prime 85 W Ski Boots - Women's - 2020/2021  $349.95\n",
       "29          Alpina    Outlander Eve Cross-Country Ski Boots - Women's  $159.95"
      ]
     },
     "execution_count": 142,
     "metadata": {},
     "output_type": "execute_result"
    }
   ],
   "source": [
    "df"
   ]
  },
  {
   "cell_type": "code",
   "execution_count": null,
   "metadata": {},
   "outputs": [],
   "source": []
  },
  {
   "cell_type": "code",
   "execution_count": null,
   "metadata": {},
   "outputs": [],
   "source": []
  },
  {
   "cell_type": "code",
   "execution_count": null,
   "metadata": {},
   "outputs": [],
   "source": []
  },
  {
   "cell_type": "code",
   "execution_count": null,
   "metadata": {},
   "outputs": [],
   "source": []
  },
  {
   "cell_type": "code",
   "execution_count": null,
   "metadata": {},
   "outputs": [],
   "source": []
  },
  {
   "cell_type": "code",
   "execution_count": null,
   "metadata": {},
   "outputs": [],
   "source": []
  },
  {
   "cell_type": "code",
   "execution_count": null,
   "metadata": {},
   "outputs": [],
   "source": []
  },
  {
   "cell_type": "code",
   "execution_count": null,
   "metadata": {},
   "outputs": [],
   "source": []
  },
  {
   "cell_type": "code",
   "execution_count": null,
   "metadata": {},
   "outputs": [],
   "source": []
  },
  {
   "cell_type": "code",
   "execution_count": null,
   "metadata": {},
   "outputs": [],
   "source": []
  },
  {
   "cell_type": "code",
   "execution_count": null,
   "metadata": {},
   "outputs": [],
   "source": []
  }
 ],
 "metadata": {
  "kernelspec": {
   "display_name": "Python 3",
   "language": "python",
   "name": "python3"
  },
  "language_info": {
   "codemirror_mode": {
    "name": "ipython",
    "version": 3
   },
   "file_extension": ".py",
   "mimetype": "text/x-python",
   "name": "python",
   "nbconvert_exporter": "python",
   "pygments_lexer": "ipython3",
   "version": "3.7.3"
  }
 },
 "nbformat": 4,
 "nbformat_minor": 4
}
